{
  "nbformat": 4,
  "nbformat_minor": 0,
  "metadata": {
    "colab": {
      "provenance": [],
      "authorship_tag": "ABX9TyNHq6CzNAWPYRLrs+NRer32",
      "include_colab_link": true
    },
    "kernelspec": {
      "name": "python3",
      "display_name": "Python 3"
    },
    "language_info": {
      "name": "python"
    }
  },
  "cells": [
    {
      "cell_type": "markdown",
      "metadata": {
        "id": "view-in-github",
        "colab_type": "text"
      },
      "source": [
        "<a href=\"https://colab.research.google.com/github/vyshnxviii/OIBSIP/blob/main/Random_Password_Generator.ipynb\" target=\"_parent\"><img src=\"https://colab.research.google.com/assets/colab-badge.svg\" alt=\"Open In Colab\"/></a>"
      ]
    },
    {
      "cell_type": "markdown",
      "source": [
        "PROJECT 3 - RANDOM PASSWORD GENERATOR"
      ],
      "metadata": {
        "id": "PLVR2gGUX7k5"
      }
    },
    {
      "cell_type": "code",
      "execution_count": 11,
      "metadata": {
        "colab": {
          "base_uri": "https://localhost:8080/"
        },
        "id": "3UD906jE5Cg7",
        "outputId": "582dff02-0bc3-4daf-ea69-e32c23892a27"
      },
      "outputs": [
        {
          "output_type": "stream",
          "name": "stdout",
          "text": [
            "Welcome to the Password Generator!\n",
            "Enter the password length: 5\n",
            "Include letters? (yes/no): yes\n",
            "Include numbers? (yes/no): no\n",
            "Include symbols? (yes/no): yes\n",
            "Generated Password: U&mwi\n"
          ]
        }
      ],
      "source": [
        "import random\n",
        "import string\n",
        "\n",
        "def generate_password(length, use_letters, use_numbers, use_symbols):\n",
        "    # Create a string containing characters based on user preferences\n",
        "    characters = ''\n",
        "    if use_letters:\n",
        "        characters += string.ascii_letters\n",
        "    if use_numbers:\n",
        "        characters += string.digits\n",
        "    if use_symbols:\n",
        "        characters += string.punctuation\n",
        "\n",
        "    # Check if at least one character set is selected\n",
        "    if not characters:\n",
        "        print(\"Please select at least one character set.\")\n",
        "        return None\n",
        "\n",
        "    # Generate a password using selected characters of specified length\n",
        "    password = ''.join(random.choice(characters) for _ in range(length))\n",
        "\n",
        "    # Ensure at least one character from each selected set is included\n",
        "    if use_letters and not any(char.isalpha() for char in password):\n",
        "        password += random.choice(string.ascii_letters)\n",
        "    if use_numbers and not any(char.isdigit() for char in password):\n",
        "        password += random.choice(string.digits)\n",
        "    if use_symbols and not any(char in string.punctuation for char in password):\n",
        "        password += random.choice(string.punctuation)\n",
        "\n",
        "    # Shuffle the generated password for randomness\n",
        "    return ''.join(random.sample(password, len(password)))\n",
        "\n",
        "def main():\n",
        "    print(\"Welcome to the Password Generator!\")\n",
        "    length = int(input(\"Enter the password length: \"))\n",
        "    use_letters = input(\"Include letters? (yes/no): \").lower() == 'yes'\n",
        "    use_numbers = input(\"Include numbers? (yes/no): \").lower() == 'yes'\n",
        "    use_symbols = input(\"Include symbols? (yes/no): \").lower() == 'yes'\n",
        "\n",
        "    # Generate and display the password\n",
        "    password = generate_password(length, use_letters, use_numbers, use_symbols)\n",
        "    if password:\n",
        "        print(f\"Generated Password: {password}\")\n",
        "\n",
        "if __name__ == \"__main__\":\n",
        "    main()\n"
      ]
    }
  ]
}