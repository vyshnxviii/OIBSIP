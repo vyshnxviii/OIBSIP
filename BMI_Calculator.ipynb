{
  "nbformat": 4,
  "nbformat_minor": 0,
  "metadata": {
    "colab": {
      "provenance": [],
      "authorship_tag": "ABX9TyNgFNkdVI1NBfub0Sxx7QYW",
      "include_colab_link": true
    },
    "kernelspec": {
      "name": "python3",
      "display_name": "Python 3"
    },
    "language_info": {
      "name": "python"
    }
  },
  "cells": [
    {
      "cell_type": "markdown",
      "metadata": {
        "id": "view-in-github",
        "colab_type": "text"
      },
      "source": [
        "<a href=\"https://colab.research.google.com/github/vyshnxviii/OIBSIP/blob/main/BMI_Calculator.ipynb\" target=\"_parent\"><img src=\"https://colab.research.google.com/assets/colab-badge.svg\" alt=\"Open In Colab\"/></a>"
      ]
    },
    {
      "cell_type": "code",
      "execution_count": 9,
      "metadata": {
        "colab": {
          "base_uri": "https://localhost:8080/"
        },
        "id": "YPaBXAGL0-KU",
        "outputId": "66040666-2f91-4cd8-e214-2462b3c4504a"
      },
      "outputs": [
        {
          "output_type": "stream",
          "name": "stdout",
          "text": [
            "Enter your weight in kilograms: 50\n",
            "Enter your height in meters: 1.62\n",
            "Your BMI is 19.05 which is classified as Normal.\n"
          ]
        }
      ],
      "source": [
        "# Function to calculate BMI based on weight and height\n",
        "def calculate_bmi(weight, height):\n",
        "    return weight / (height ** 2)\n",
        "\n",
        "# Function to classify BMI into categories (Underweight, Normal, Overweight, Obese)\n",
        "def classify_bmi(bmi):\n",
        "    if bmi < 18.5:\n",
        "        return \"Underweight\"\n",
        "    elif 18.5 <= bmi < 25:\n",
        "        return \"Normal\"\n",
        "    elif 25 <= bmi < 30:\n",
        "        return \"Overweight\"\n",
        "    else:\n",
        "        return \"Obese\"\n",
        "\n",
        "# Main function to get user inputs and calculate BMI\n",
        "def main():\n",
        "    flag = 0\n",
        "    while flag == 0:  # Loop to ensure valid inputs\n",
        "        try:\n",
        "            weight = float(input(\"Enter your weight in kilograms: \"))\n",
        "            height = float(input(\"Enter your height in meters: \"))\n",
        "\n",
        "            if weight <= 0 or height <= 0:\n",
        "                print(\"Weight and height should be greater than zero.\")\n",
        "            else:\n",
        "                # Calculate BMI and classify it\n",
        "                bmi = calculate_bmi(weight, height)\n",
        "                category = classify_bmi(bmi)\n",
        "                flag = 1  # Set flag to exit the loop\n",
        "                print(f\"Your BMI is {bmi:.2f} which is classified as {category}.\")\n",
        "        except ValueError:\n",
        "            print(\"Please enter valid numeric values for weight and height.\")\n",
        "\n",
        "if __name__ == \"__main__\":\n",
        "    main()\n"
      ]
    }
  ]
}